{
  "nbformat": 4,
  "nbformat_minor": 0,
  "metadata": {
    "colab": {
      "provenance": []
    },
    "kernelspec": {
      "name": "python3",
      "display_name": "Python 3"
    },
    "language_info": {
      "name": "python"
    }
  },
  "cells": [
    {
      "cell_type": "code",
      "execution_count": 4,
      "metadata": {
        "id": "Z4ZgM8ccWNAT"
      },
      "outputs": [],
      "source": [
        "import pandas as pd\n",
        "import matplotlib.pyplot as plt\n",
        "import seaborn as sns"
      ]
    },
    {
      "cell_type": "code",
      "source": [
        "file_path = 'dataKasus-1.xlsx'  # Sesuaikan ini jika file diunggah dengan cara berbeda\n",
        "df = pd.read_excel(file_path)"
      ],
      "metadata": {
        "id": "4PhTXtfMWfCX"
      },
      "execution_count": 5,
      "outputs": []
    },
    {
      "cell_type": "code",
      "source": [
        "print(df.head())"
      ],
      "metadata": {
        "colab": {
          "base_uri": "https://localhost:8080/"
        },
        "id": "Rv3ONF9_WfJE",
        "outputId": "00254035-02d6-4540-c59f-306ebe31d5d7"
      },
      "execution_count": null,
      "outputs": [
        {
          "output_type": "stream",
          "name": "stdout",
          "text": [
            "   NO    NAMA   USIA  PARITAS JARAK KELAHIRAN RIW HIPERTENSI RIW PE OBESITAS  \\\n",
            "0   1  NAMA 1  23 TH        3       < 2 tahun          Tidak  Tidak    Tidak   \n",
            "1   2  NAMA 2  29 TH        2       < 2 tahun          Tidak    PEB    Tidak   \n",
            "2   3  NAMA 3  20 TH        1    anak pertama          Tidak  Tidak    Tidak   \n",
            "3   4  NAMA 4  18 TH        1    anak pertama          Tidak  Tidak    Tidak   \n",
            "4   5  NAMA 5  34 TH        3      > 2 tahun           Tidak  Tidak    Tidak   \n",
            "\n",
            "  RIW DM RIW HIPERTENSI/PE DALAM KELUARGA SOSEK RENDAH PE/Non PE Unnamed: 12  \n",
            "0     Ya                            Tidak         >UMR    Non PE         NaN  \n",
            "1  Tidak                              Ada         >UMR        PE         NaN  \n",
            "2  Tidak                            Tidak         >UMR    Non PE         NaN  \n",
            "3  Tidak                            Tidak         >UMR    Non PE         NaN  \n",
            "4  Tidak                            Tidak         >UMR    Non PE         NaN  \n"
          ]
        }
      ]
    },
    {
      "cell_type": "code",
      "source": [
        "print(df.info())"
      ],
      "metadata": {
        "colab": {
          "base_uri": "https://localhost:8080/"
        },
        "id": "p2eZlL7nWfLa",
        "outputId": "e53be7ee-c5a6-4942-cc79-6782edd87261"
      },
      "execution_count": null,
      "outputs": [
        {
          "output_type": "stream",
          "name": "stdout",
          "text": [
            "<class 'pandas.core.frame.DataFrame'>\n",
            "RangeIndex: 561 entries, 0 to 560\n",
            "Data columns (total 13 columns):\n",
            " #   Column                            Non-Null Count  Dtype \n",
            "---  ------                            --------------  ----- \n",
            " 0   NO                                561 non-null    int64 \n",
            " 1   NAMA                              561 non-null    object\n",
            " 2   USIA                              558 non-null    object\n",
            " 3   PARITAS                           561 non-null    int64 \n",
            " 4   JARAK KELAHIRAN                   554 non-null    object\n",
            " 5   RIW HIPERTENSI                    561 non-null    object\n",
            " 6   RIW PE                            561 non-null    object\n",
            " 7   OBESITAS                          561 non-null    object\n",
            " 8   RIW DM                            561 non-null    object\n",
            " 9   RIW HIPERTENSI/PE DALAM KELUARGA  561 non-null    object\n",
            " 10  SOSEK RENDAH                      561 non-null    object\n",
            " 11  PE/Non PE                         561 non-null    object\n",
            " 12  Unnamed: 12                       11 non-null     object\n",
            "dtypes: int64(2), object(11)\n",
            "memory usage: 57.1+ KB\n",
            "None\n"
          ]
        }
      ]
    },
    {
      "cell_type": "code",
      "source": [
        "print(df.describe())"
      ],
      "metadata": {
        "colab": {
          "base_uri": "https://localhost:8080/"
        },
        "id": "HJLSdM6KWfO5",
        "outputId": "9afbe027-2c69-4856-f4d8-20ae526bb75f"
      },
      "execution_count": null,
      "outputs": [
        {
          "output_type": "stream",
          "name": "stdout",
          "text": [
            "               NO     PARITAS\n",
            "count  561.000000  561.000000\n",
            "mean   281.859180    1.709447\n",
            "std    162.301009    1.012105\n",
            "min      1.000000    0.000000\n",
            "25%    142.000000    1.000000\n",
            "50%    282.000000    2.000000\n",
            "75%    422.000000    2.000000\n",
            "max    562.000000    6.000000\n"
          ]
        }
      ]
    },
    {
      "cell_type": "code",
      "source": [
        "print(df.isnull().sum())"
      ],
      "metadata": {
        "colab": {
          "base_uri": "https://localhost:8080/"
        },
        "id": "xjO8oYEqW4j0",
        "outputId": "34436d7c-2ff4-4f29-ac64-30f61ff8d1ef"
      },
      "execution_count": null,
      "outputs": [
        {
          "output_type": "stream",
          "name": "stdout",
          "text": [
            "NO                                    0\n",
            "NAMA                                  0\n",
            "USIA                                  3\n",
            "PARITAS                               0\n",
            "JARAK KELAHIRAN                       7\n",
            "RIW HIPERTENSI                        0\n",
            "RIW PE                                0\n",
            "OBESITAS                              0\n",
            "RIW DM                                0\n",
            "RIW HIPERTENSI/PE DALAM KELUARGA      0\n",
            "SOSEK RENDAH                          0\n",
            "PE/Non PE                             0\n",
            "Unnamed: 12                         550\n",
            "dtype: int64\n"
          ]
        }
      ]
    },
    {
      "cell_type": "code",
      "source": [
        "print(df.columns)"
      ],
      "metadata": {
        "colab": {
          "base_uri": "https://localhost:8080/"
        },
        "id": "v8S86hmxW4nL",
        "outputId": "b76523c6-dfff-4013-b930-3e6a24943da8"
      },
      "execution_count": null,
      "outputs": [
        {
          "output_type": "stream",
          "name": "stdout",
          "text": [
            "Index(['NO', 'NAMA', 'USIA', 'PARITAS', 'JARAK KELAHIRAN', 'RIW HIPERTENSI',\n",
            "       'RIW PE', 'OBESITAS', 'RIW DM', 'RIW HIPERTENSI/PE DALAM KELUARGA',\n",
            "       'SOSEK RENDAH', 'PE/Non PE', 'Unnamed: 12'],\n",
            "      dtype='object')\n"
          ]
        }
      ]
    },
    {
      "cell_type": "code",
      "source": [
        "print(df['PARITAS'].head())"
      ],
      "metadata": {
        "colab": {
          "base_uri": "https://localhost:8080/"
        },
        "id": "yh5dHGM4Y4gf",
        "outputId": "2a16fd7f-814a-44b9-9a7f-0e14d07de2b9"
      },
      "execution_count": null,
      "outputs": [
        {
          "output_type": "stream",
          "name": "stdout",
          "text": [
            "0    3\n",
            "1    2\n",
            "2    1\n",
            "3    1\n",
            "4    3\n",
            "Name: PARITAS, dtype: int64\n"
          ]
        }
      ]
    },
    {
      "cell_type": "code",
      "source": [
        "print(\"\\nStatistik deskriptif:\")\n",
        "print(df.describe())"
      ],
      "metadata": {
        "colab": {
          "base_uri": "https://localhost:8080/"
        },
        "id": "fEatEdxOdW2I",
        "outputId": "830525fa-c548-4218-f0fe-a354cbf1544d"
      },
      "execution_count": 7,
      "outputs": [
        {
          "output_type": "stream",
          "name": "stdout",
          "text": [
            "\n",
            "Statistik deskriptif:\n",
            "               NO     PARITAS\n",
            "count  561.000000  561.000000\n",
            "mean   281.859180    1.709447\n",
            "std    162.301009    1.012105\n",
            "min      1.000000    0.000000\n",
            "25%    142.000000    1.000000\n",
            "50%    282.000000    2.000000\n",
            "75%    422.000000    2.000000\n",
            "max    562.000000    6.000000\n"
          ]
        }
      ]
    },
    {
      "cell_type": "code",
      "source": [
        "preeklampsia = df[df['PE/Non PE'] == 'PE']\n",
        "non_preeklampsia = df[df['PE/Non PE'] == 'Non PE']"
      ],
      "metadata": {
        "id": "MpmthXJPFtFb"
      },
      "execution_count": 15,
      "outputs": []
    },
    {
      "cell_type": "code",
      "source": [
        "print(f\"Jumlah kasus preeklamsia: {len(preeklampsia)}\")\n",
        "print(f\"Jumlah kasus non-preeklamsia: {len(non_preeklampsia)}\")\n"
      ],
      "metadata": {
        "colab": {
          "base_uri": "https://localhost:8080/"
        },
        "id": "yXeD6wDfHup0",
        "outputId": "819e6ee1-dd4a-4f7f-8146-9503a56f3772"
      },
      "execution_count": 16,
      "outputs": [
        {
          "output_type": "stream",
          "name": "stdout",
          "text": [
            "Jumlah kasus preeklamsia: 17\n",
            "Jumlah kasus non-preeklamsia: 520\n"
          ]
        }
      ]
    },
    {
      "cell_type": "code",
      "source": [
        "print(\"\\nData pasien preeklamsia (5 data pertama):\")\n",
        "print(preeklampsia.head())"
      ],
      "metadata": {
        "colab": {
          "base_uri": "https://localhost:8080/"
        },
        "id": "yCS6MfmOHy5h",
        "outputId": "a3b715f1-a57d-4c0c-a878-a662fa4a8226"
      },
      "execution_count": 17,
      "outputs": [
        {
          "output_type": "stream",
          "name": "stdout",
          "text": [
            "\n",
            "Data pasien preeklamsia (5 data pertama):\n",
            "      NO      NAMA  USIA  PARITAS JARAK KELAHIRAN RIW HIPERTENSI RIW PE  \\\n",
            "1      2    NAMA 2   NaN        2       < 2 tahun          Tidak    PEB   \n",
            "86    88   NAMA 87   NaN        2      > 2 tahun              Ya    PEB   \n",
            "109  111  NAMA 110   NaN        2      > 2 tahun           Tidak     PE   \n",
            "158  160  NAMA 159   NaN        2      > 2 tahun              Ya     PE   \n",
            "225  227  NAMA 226   NaN        3      > 2 tahun           Tidak     PE   \n",
            "\n",
            "    OBESITAS RIW DM RIW HIPERTENSI/PE DALAM KELUARGA SOSEK RENDAH PE/Non PE  \\\n",
            "1      Tidak  Tidak                              Ada         >UMR        PE   \n",
            "86     Tidak  Tidak                            Tidak         >UMR        PE   \n",
            "109    Tidak  Tidak                              Ada         >UMR        PE   \n",
            "158    Tidak  Tidak                            Tidak         >UMR        PE   \n",
            "225    Tidak  Tidak                            Tidak         >UMR        PE   \n",
            "\n",
            "    Unnamed: 12  \n",
            "1           NaN  \n",
            "86          NaN  \n",
            "109         NaN  \n",
            "158         NaN  \n",
            "225         NaN  \n"
          ]
        }
      ]
    },
    {
      "cell_type": "code",
      "source": [
        "print(\"\\nData pasien non-preeklamsia (5 data pertama):\")\n",
        "print(non_preeklampsia.head())\n"
      ],
      "metadata": {
        "colab": {
          "base_uri": "https://localhost:8080/"
        },
        "id": "VN4AyuIpH8za",
        "outputId": "5e75d68c-5e36-4d6d-c3c2-132b19fcb7cb"
      },
      "execution_count": 18,
      "outputs": [
        {
          "output_type": "stream",
          "name": "stdout",
          "text": [
            "\n",
            "Data pasien non-preeklamsia (5 data pertama):\n",
            "   NO    NAMA  USIA  PARITAS JARAK KELAHIRAN RIW HIPERTENSI RIW PE OBESITAS  \\\n",
            "0   1  NAMA 1   NaN        3       < 2 tahun          Tidak  Tidak    Tidak   \n",
            "2   3  NAMA 3   NaN        1    anak pertama          Tidak  Tidak    Tidak   \n",
            "3   4  NAMA 4   NaN        1    anak pertama          Tidak  Tidak    Tidak   \n",
            "4   5  NAMA 5   NaN        3      > 2 tahun           Tidak  Tidak    Tidak   \n",
            "5   6  NAMA 6   NaN        3       < 2 tahun          Tidak  Tidak    Tidak   \n",
            "\n",
            "  RIW DM RIW HIPERTENSI/PE DALAM KELUARGA SOSEK RENDAH PE/Non PE Unnamed: 12  \n",
            "0     Ya                            Tidak         >UMR    Non PE         NaN  \n",
            "2  Tidak                            Tidak         >UMR    Non PE         NaN  \n",
            "3  Tidak                            Tidak         >UMR    Non PE         NaN  \n",
            "4  Tidak                            Tidak         >UMR    Non PE         NaN  \n",
            "5  Tidak                            Tidak         >UMR    Non PE         NaN  \n"
          ]
        }
      ]
    },
    {
      "cell_type": "code",
      "source": [
        "plt.figure(figsize=(10, 6))\n",
        "sns.histplot(preeklampsia['USIA'], kde=True, color='red', label='Preeklamsia', alpha=0.6)\n",
        "sns.histplot(non_preeklampsia['USIA'], kde=True, color='blue', label='Non Preeklamsia', alpha=0.6)\n",
        "plt.title('Perbandingan Distribusi Usia Pasien Preeklamsia dan Non-Preeklamsia')\n",
        "plt.xlabel('Usia Ibu')\n",
        "plt.ylabel('Frekuensi')\n",
        "plt.legend()\n",
        "plt.show()"
      ],
      "metadata": {
        "colab": {
          "base_uri": "https://localhost:8080/",
          "height": 564
        },
        "id": "JAn1xUtwIAPc",
        "outputId": "57c057d1-e4d4-41fe-93e4-ed79b2a622e4"
      },
      "execution_count": 22,
      "outputs": [
        {
          "output_type": "display_data",
          "data": {
            "text/plain": [
              "<Figure size 1000x600 with 1 Axes>"
            ],
            "image/png": "[encoded data removed]"
          },
          "metadata": {}
        }
      ]
    },
    {
      "cell_type": "code",
      "source": [],
      "metadata": {
        "id": "DVitQSwLIXKd"
      },
      "execution_count": 21,
      "outputs": []
    }
  ]
}