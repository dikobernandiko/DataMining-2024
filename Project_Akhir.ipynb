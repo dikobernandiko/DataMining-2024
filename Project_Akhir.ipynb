{
  "nbformat": 4,
  "nbformat_minor": 0,
  "metadata": {
    "colab": {
      "provenance": [],
      "authorship_tag": "ABX9TyMzuv8U76zO6LbyGXwsCPYy",
      "include_colab_link": true
    },
    "kernelspec": {
      "name": "python3",
      "display_name": "Python 3"
    },
    "language_info": {
      "name": "python"
    }
  },
  "cells": [
    {
      "cell_type": "markdown",
      "metadata": {
        "id": "view-in-github",
        "colab_type": "text"
      },
      "source": [
        "<a href=\"https://colab.research.google.com/github/dikobernandiko/DataMining-2024/blob/main/Project_Akhir.ipynb\" target=\"_parent\"><img src=\"https://colab.research.google.com/assets/colab-badge.svg\" alt=\"Open In Colab\"/></a>"
      ]
    },
    {
      "cell_type": "code",
      "execution_count": 1,
      "metadata": {
        "id": "WMm7jYR8ezBZ"
      },
      "outputs": [],
      "source": [
        "import pandas as pd"
      ]
    },
    {
      "cell_type": "code",
      "source": [
        "df = pd.read_csv(\"supermarket_sales - Sheet1.csv\")"
      ],
      "metadata": {
        "id": "q4RWFAJf_i0B"
      },
      "execution_count": 3,
      "outputs": []
    },
    {
      "cell_type": "markdown",
      "source": [
        "# **Eksplorasi Data Awal**"
      ],
      "metadata": {
        "id": "QONFx7sFAg8q"
      }
    },
    {
      "cell_type": "code",
      "source": [
        "#menampilkan baris pertama\n",
        "print(df.head())"
      ],
      "metadata": {
        "colab": {
          "base_uri": "https://localhost:8080/"
        },
        "id": "yh1SQMMC_i2f",
        "outputId": "9b4c05fb-619a-43bf-8ecd-bd336a58f580"
      },
      "execution_count": 4,
      "outputs": [
        {
          "output_type": "stream",
          "name": "stdout",
          "text": [
            "    Invoice ID Branch       City Customer type  Gender  \\\n",
            "0  750-67-8428      A     Yangon        Member  Female   \n",
            "1  226-31-3081      C  Naypyitaw        Normal  Female   \n",
            "2  631-41-3108      A     Yangon        Normal    Male   \n",
            "3  123-19-1176      A     Yangon        Member    Male   \n",
            "4  373-73-7910      A     Yangon        Normal    Male   \n",
            "\n",
            "             Product line  Unit price  Quantity   Tax 5%     Total       Date  \\\n",
            "0       Health and beauty       74.69         7  26.1415  548.9715   1/5/2019   \n",
            "1  Electronic accessories       15.28         5   3.8200   80.2200   3/8/2019   \n",
            "2      Home and lifestyle       46.33         7  16.2155  340.5255   3/3/2019   \n",
            "3       Health and beauty       58.22         8  23.2880  489.0480  1/27/2019   \n",
            "4       Sports and travel       86.31         7  30.2085  634.3785   2/8/2019   \n",
            "\n",
            "    Time      Payment    cogs  gross margin percentage  gross income  Rating  \n",
            "0  13:08      Ewallet  522.83                 4.761905       26.1415     9.1  \n",
            "1  10:29         Cash   76.40                 4.761905        3.8200     9.6  \n",
            "2  13:23  Credit card  324.31                 4.761905       16.2155     7.4  \n",
            "3  20:33      Ewallet  465.76                 4.761905       23.2880     8.4  \n",
            "4  10:37      Ewallet  604.17                 4.761905       30.2085     5.3  \n"
          ]
        }
      ]
    },
    {
      "cell_type": "code",
      "source": [
        "#Menampilkan informasi umum dataset\n",
        "df.info()"
      ],
      "metadata": {
        "colab": {
          "base_uri": "https://localhost:8080/"
        },
        "id": "iCoDE8Yb_i5O",
        "outputId": "7fff1aae-3038-4921-ac35-4fff05ecd4e7"
      },
      "execution_count": 5,
      "outputs": [
        {
          "output_type": "stream",
          "name": "stdout",
          "text": [
            "<class 'pandas.core.frame.DataFrame'>\n",
            "RangeIndex: 1000 entries, 0 to 999\n",
            "Data columns (total 17 columns):\n",
            " #   Column                   Non-Null Count  Dtype  \n",
            "---  ------                   --------------  -----  \n",
            " 0   Invoice ID               1000 non-null   object \n",
            " 1   Branch                   1000 non-null   object \n",
            " 2   City                     1000 non-null   object \n",
            " 3   Customer type            1000 non-null   object \n",
            " 4   Gender                   1000 non-null   object \n",
            " 5   Product line             1000 non-null   object \n",
            " 6   Unit price               1000 non-null   float64\n",
            " 7   Quantity                 1000 non-null   int64  \n",
            " 8   Tax 5%                   1000 non-null   float64\n",
            " 9   Total                    1000 non-null   float64\n",
            " 10  Date                     1000 non-null   object \n",
            " 11  Time                     1000 non-null   object \n",
            " 12  Payment                  1000 non-null   object \n",
            " 13  cogs                     1000 non-null   float64\n",
            " 14  gross margin percentage  1000 non-null   float64\n",
            " 15  gross income             1000 non-null   float64\n",
            " 16  Rating                   1000 non-null   float64\n",
            "dtypes: float64(7), int64(1), object(9)\n",
            "memory usage: 132.9+ KB\n"
          ]
        }
      ]
    },
    {
      "cell_type": "code",
      "source": [
        "#statistik deskriptif awal\n",
        "print(df.describe())"
      ],
      "metadata": {
        "colab": {
          "base_uri": "https://localhost:8080/"
        },
        "id": "253BoDit_i7l",
        "outputId": "34cbfd63-a88d-4e04-8246-ae265bbf43c3"
      },
      "execution_count": 6,
      "outputs": [
        {
          "output_type": "stream",
          "name": "stdout",
          "text": [
            "        Unit price     Quantity       Tax 5%        Total        cogs  \\\n",
            "count  1000.000000  1000.000000  1000.000000  1000.000000  1000.00000   \n",
            "mean     55.672130     5.510000    15.379369   322.966749   307.58738   \n",
            "std      26.494628     2.923431    11.708825   245.885335   234.17651   \n",
            "min      10.080000     1.000000     0.508500    10.678500    10.17000   \n",
            "25%      32.875000     3.000000     5.924875   124.422375   118.49750   \n",
            "50%      55.230000     5.000000    12.088000   253.848000   241.76000   \n",
            "75%      77.935000     8.000000    22.445250   471.350250   448.90500   \n",
            "max      99.960000    10.000000    49.650000  1042.650000   993.00000   \n",
            "\n",
            "       gross margin percentage  gross income      Rating  \n",
            "count             1.000000e+03   1000.000000  1000.00000  \n",
            "mean              4.761905e+00     15.379369     6.97270  \n",
            "std               6.131498e-14     11.708825     1.71858  \n",
            "min               4.761905e+00      0.508500     4.00000  \n",
            "25%               4.761905e+00      5.924875     5.50000  \n",
            "50%               4.761905e+00     12.088000     7.00000  \n",
            "75%               4.761905e+00     22.445250     8.50000  \n",
            "max               4.761905e+00     49.650000    10.00000  \n"
          ]
        }
      ]
    },
    {
      "cell_type": "code",
      "source": [
        "#Kolom-kolom yang tersedia\n",
        "print(df.columns)"
      ],
      "metadata": {
        "colab": {
          "base_uri": "https://localhost:8080/"
        },
        "id": "vKQXLzCJ_i9y",
        "outputId": "5fab6516-b961-4a5c-ecd0-7842b4ec6b28"
      },
      "execution_count": 7,
      "outputs": [
        {
          "output_type": "stream",
          "name": "stdout",
          "text": [
            "Index(['Invoice ID', 'Branch', 'City', 'Customer type', 'Gender',\n",
            "       'Product line', 'Unit price', 'Quantity', 'Tax 5%', 'Total', 'Date',\n",
            "       'Time', 'Payment', 'cogs', 'gross margin percentage', 'gross income',\n",
            "       'Rating'],\n",
            "      dtype='object')\n"
          ]
        }
      ]
    },
    {
      "cell_type": "code",
      "source": [
        "#Cek data hilang\n",
        "print(df.isnull().sum())"
      ],
      "metadata": {
        "colab": {
          "base_uri": "https://localhost:8080/"
        },
        "id": "UcJVgJmN_jAW",
        "outputId": "ee4d11ca-715b-4830-c6af-7decf9988732"
      },
      "execution_count": 8,
      "outputs": [
        {
          "output_type": "stream",
          "name": "stdout",
          "text": [
            "Invoice ID                 0\n",
            "Branch                     0\n",
            "City                       0\n",
            "Customer type              0\n",
            "Gender                     0\n",
            "Product line               0\n",
            "Unit price                 0\n",
            "Quantity                   0\n",
            "Tax 5%                     0\n",
            "Total                      0\n",
            "Date                       0\n",
            "Time                       0\n",
            "Payment                    0\n",
            "cogs                       0\n",
            "gross margin percentage    0\n",
            "gross income               0\n",
            "Rating                     0\n",
            "dtype: int64\n"
          ]
        }
      ]
    },
    {
      "cell_type": "markdown",
      "source": [
        "# **Visualisasi Data Awal**"
      ],
      "metadata": {
        "id": "Q3OyFKy9B8Bu"
      }
    },
    {
      "cell_type": "code",
      "source": [
        "import seaborn as sns\n",
        "import matplotlib.pyplot as plt"
      ],
      "metadata": {
        "id": "EsAneH09_jDt"
      },
      "execution_count": 9,
      "outputs": []
    },
    {
      "cell_type": "code",
      "source": [
        "sns.histplot(df['Total'])\n",
        "plt.show()"
      ],
      "metadata": {
        "colab": {
          "base_uri": "https://localhost:8080/",
          "height": 449
        },
        "id": "OCsvWKm9_jLy",
        "outputId": "1a45ac10-17b2-42f3-babc-dc458ab9eefa"
      },
      "execution_count": 10,
      "outputs": [
        {
          "output_type": "display_data",
          "data": {
            "text/plain": [
              "<Figure size 640x480 with 1 Axes>"
            ],
            "image/png": "[encoded data removed]"
          },
          "metadata": {}
        }
      ]
    },
    {
      "cell_type": "markdown",
      "source": [
        "# **Data Preparation**"
      ],
      "metadata": {
        "id": "SF6axTZODAgS"
      }
    },
    {
      "cell_type": "code",
      "source": [
        "#mengecek data duplikat\n",
        "print(df.duplicated().sum())"
      ],
      "metadata": {
        "colab": {
          "base_uri": "https://localhost:8080/"
        },
        "id": "5jO3MQu-Ca7b",
        "outputId": "ed2470db-8892-486e-c3a4-391cb87a4d3d"
      },
      "execution_count": 11,
      "outputs": [
        {
          "output_type": "stream",
          "name": "stdout",
          "text": [
            "0\n"
          ]
        }
      ]
    },
    {
      "cell_type": "code",
      "source": [
        "#Cek data kosong\n",
        "print(df.isnull().sum())"
      ],
      "metadata": {
        "colab": {
          "base_uri": "https://localhost:8080/"
        },
        "id": "TyxWKwERCa9u",
        "outputId": "648ab5d8-8cbc-4457-cf2d-7f73c9fc1ae2"
      },
      "execution_count": 12,
      "outputs": [
        {
          "output_type": "stream",
          "name": "stdout",
          "text": [
            "Invoice ID                 0\n",
            "Branch                     0\n",
            "City                       0\n",
            "Customer type              0\n",
            "Gender                     0\n",
            "Product line               0\n",
            "Unit price                 0\n",
            "Quantity                   0\n",
            "Tax 5%                     0\n",
            "Total                      0\n",
            "Date                       0\n",
            "Time                       0\n",
            "Payment                    0\n",
            "cogs                       0\n",
            "gross margin percentage    0\n",
            "gross income               0\n",
            "Rating                     0\n",
            "dtype: int64\n"
          ]
        }
      ]
    },
    {
      "cell_type": "markdown",
      "source": [
        "Feature Engineering"
      ],
      "metadata": {
        "id": "ia3vAqvgEKsJ"
      }
    },
    {
      "cell_type": "code",
      "source": [
        "#Mengkonversi kolom tanggal\n",
        "df['Date'] = pd.to_datetime(df['Date'])"
      ],
      "metadata": {
        "id": "1fVFPyNGCbAB"
      },
      "execution_count": 14,
      "outputs": []
    },
    {
      "cell_type": "code",
      "source": [
        "#Menambahkan fitur hari dan bulan\n",
        "df['Day'] = df['Date'].dt.day_name()\n",
        "df['Month'] = df['Date'].dt.month"
      ],
      "metadata": {
        "id": "CZyyMxpcCbCR"
      },
      "execution_count": 17,
      "outputs": []
    },
    {
      "cell_type": "code",
      "source": [
        "#Menentukan kategori waktu\n",
        "def categorize_time(hour):\n",
        "  if 10 <= hour < 14:\n",
        "    return 'Morning'\n",
        "  elif 14 <= hour < 18:\n",
        "    return 'Afternoon'\n",
        "  else:\n",
        "      return 'Evening'\n",
        "\n",
        "df['Time Category'] = df['Time'].str.split(':').str[0].astype(int).apply(categorize_time)"
      ],
      "metadata": {
        "id": "bkhEnwvQCbEi"
      },
      "execution_count": 21,
      "outputs": []
    },
    {
      "cell_type": "markdown",
      "source": [
        "Exploratory Data Analysis (EDA)"
      ],
      "metadata": {
        "id": "Fw4V8KQPICXR"
      }
    },
    {
      "cell_type": "code",
      "source": [
        "#Distribusi Variabel Numerik\n",
        "sns.boxplot(df['Total'])\n",
        "plt.show()"
      ],
      "metadata": {
        "colab": {
          "base_uri": "https://localhost:8080/",
          "height": 411
        },
        "id": "U7MVlAckCbHH",
        "outputId": "4ede6c9c-5f9d-482a-a25f-b1c6608912bc"
      },
      "execution_count": 22,
      "outputs": [
        {
          "output_type": "display_data",
          "data": {
            "text/plain": [
              "<Figure size 640x480 with 1 Axes>"
            ],
            "image/png": "[encoded data removed]"
          },
          "metadata": {}
        }
      ]
    },
    {
      "cell_type": "code",
      "source": [
        "print(df.dtypes)"
      ],
      "metadata": {
        "colab": {
          "base_uri": "https://localhost:8080/"
        },
        "id": "5jjkH7fXCbKk",
        "outputId": "cc9aaa4d-62b6-4dfe-95c6-bc4d56e3b637"
      },
      "execution_count": 26,
      "outputs": [
        {
          "output_type": "stream",
          "name": "stdout",
          "text": [
            "Invoice ID                         object\n",
            "Branch                             object\n",
            "City                               object\n",
            "Customer type                      object\n",
            "Gender                             object\n",
            "Product line                       object\n",
            "Unit price                        float64\n",
            "Quantity                            int64\n",
            "Tax 5%                            float64\n",
            "Total                             float64\n",
            "Date                       datetime64[ns]\n",
            "Time                               object\n",
            "Payment                            object\n",
            "cogs                              float64\n",
            "gross margin percentage           float64\n",
            "gross income                      float64\n",
            "Rating                            float64\n",
            "Day                                object\n",
            "Month                               int32\n",
            "Time Category                      object\n",
            "dtype: object\n"
          ]
        }
      ]
    },
    {
      "cell_type": "code",
      "source": [
        "#Membuat heatmap korelasi\n",
        "numeric_columns = df[['Unit price','Quantity','Tax 5%','Total','cogs','gross margin percentage','gross income','Rating']]\n",
        "\n",
        "plt.figure(figsize=(10,8))\n",
        "sns.heatmap(numeric_columns.corr(),annot=True,cmap='coolwarm')\n",
        "plt.title('Heatmap Korelasi Variabel Numerik')\n",
        "plt.show()"
      ],
      "metadata": {
        "colab": {
          "base_uri": "https://localhost:8080/",
          "height": 589
        },
        "id": "Sf6IFEF2IapJ",
        "outputId": "36f5db3f-ea33-4439-cf1a-b5f4271f93b7"
      },
      "execution_count": 27,
      "outputs": [
        {
          "output_type": "display_data",
          "data": {
            "text/plain": [
              "<Figure size 1000x800 with 2 Axes>"
            ],
            "image/png": "[encoded data removed]"
          },
          "metadata": {}
        }
      ]
    },
    {
      "cell_type": "code",
      "source": [
        "sns.countplot(x='Branch', data=df)\n",
        "plt.show()"
      ],
      "metadata": {
        "colab": {
          "base_uri": "https://localhost:8080/",
          "height": 449
        },
        "id": "rRnQjmBvIarZ",
        "outputId": "2278f6a0-8ee5-4edb-e3ac-118b7a754c5f"
      },
      "execution_count": 28,
      "outputs": [
        {
          "output_type": "display_data",
          "data": {
            "text/plain": [
              "<Figure size 640x480 with 1 Axes>"
            ],
            "image/png": "[encoded data removed]"
          },
          "metadata": {}
        }
      ]
    },
    {
      "cell_type": "markdown",
      "source": [
        "Data Scaling dan Encoding\n"
      ],
      "metadata": {
        "id": "1Cjbw90RaNVW"
      }
    },
    {
      "cell_type": "code",
      "source": [
        "from sklearn.preprocessing import StandardScaler"
      ],
      "metadata": {
        "id": "DyDPH8X9Iats"
      },
      "execution_count": 29,
      "outputs": []
    },
    {
      "cell_type": "code",
      "source": [
        "#Scaling data numerik\n",
        "scaler = StandardScaler()\n",
        "df[['Unit price','Total','gross income']] = scaler.fit_transform(df[['Unit price','Total','gross income']])"
      ],
      "metadata": {
        "id": "ScQRjqTDIavy"
      },
      "execution_count": 33,
      "outputs": []
    },
    {
      "cell_type": "code",
      "source": [
        "print(df.columns)"
      ],
      "metadata": {
        "colab": {
          "base_uri": "https://localhost:8080/"
        },
        "id": "Rnxy3PKuIax_",
        "outputId": "b8d2cdca-6a04-4a16-f4be-cbe3d4f12ee2"
      },
      "execution_count": 35,
      "outputs": [
        {
          "output_type": "stream",
          "name": "stdout",
          "text": [
            "Index(['Invoice ID', 'City', 'Gender', 'Product line', 'Unit price',\n",
            "       'Quantity', 'Tax 5%', 'Total', 'Date', 'Time', 'cogs',\n",
            "       'gross margin percentage', 'gross income', 'Rating', 'Day', 'Month',\n",
            "       'Time Category', 'Customer type_Member', 'Customer type_Normal',\n",
            "       'Branch_A', 'Branch_B', 'Branch_C', 'Payment_Cash',\n",
            "       'Payment_Credit card', 'Payment_Ewallet'],\n",
            "      dtype='object')\n"
          ]
        }
      ]
    },
    {
      "cell_type": "markdown",
      "source": [
        "Split Datasets\n"
      ],
      "metadata": {
        "id": "5iZCi6lyc-r-"
      }
    },
    {
      "cell_type": "code",
      "source": [],
      "metadata": {
        "id": "e2Wn39eOIa0Q"
      },
      "execution_count": 34,
      "outputs": []
    },
    {
      "cell_type": "code",
      "source": [],
      "metadata": {
        "id": "lzchFJh1Ia30"
      },
      "execution_count": null,
      "outputs": []
    },
    {
      "cell_type": "code",
      "source": [],
      "metadata": {
        "id": "eH9hmUTjIa9a"
      },
      "execution_count": null,
      "outputs": []
    },
    {
      "cell_type": "code",
      "source": [],
      "metadata": {
        "id": "86ew6pf4Ia_b"
      },
      "execution_count": null,
      "outputs": []
    },
    {
      "cell_type": "code",
      "source": [],
      "metadata": {
        "id": "eNLkkjUiIbBu"
      },
      "execution_count": null,
      "outputs": []
    },
    {
      "cell_type": "code",
      "source": [],
      "metadata": {
        "id": "iP8gSr-GIbEq"
      },
      "execution_count": null,
      "outputs": []
    },
    {
      "cell_type": "code",
      "source": [],
      "metadata": {
        "id": "OubYR7oDIbId"
      },
      "execution_count": null,
      "outputs": []
    }
  ]
}