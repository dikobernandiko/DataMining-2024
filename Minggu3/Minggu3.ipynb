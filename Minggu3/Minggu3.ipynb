{
  "nbformat": 4,
  "nbformat_minor": 0,
  "metadata": {
    "colab": {
      "provenance": []
    },
    "kernelspec": {
      "name": "python3",
      "display_name": "Python 3"
    },
    "language_info": {
      "name": "python"
    }
  },
  "cells": [
    {
      "cell_type": "code",
      "execution_count": 1,
      "metadata": {
        "id": "xVfITgRWStni"
      },
      "outputs": [],
      "source": [
        "import numpy as np\n",
        "import matplotlib.pyplot as plt\n",
        "import pandas as pd"
      ]
    },
    {
      "cell_type": "code",
      "source": [
        "data = pd.read_csv('datakelulusanmahasiswa_processed.csv')"
      ],
      "metadata": {
        "id": "Vj4sOqZ5UKHY"
      },
      "execution_count": 7,
      "outputs": []
    },
    {
      "cell_type": "code",
      "source": [
        "# Memeriksa data yang hilang\n",
        "print(\"Jumlah nilai yang hilang per kolom:\")\n",
        "print(data.isnull().sum())"
      ],
      "metadata": {
        "colab": {
          "base_uri": "https://localhost:8080/"
        },
        "id": "BIBxvQ0NWFLE",
        "outputId": "051d45c0-529a-4be9-8e5a-e460705566ec"
      },
      "execution_count": 8,
      "outputs": [
        {
          "output_type": "stream",
          "name": "stdout",
          "text": [
            "Jumlah nilai yang hilang per kolom:\n",
            "IPS 1                       0\n",
            "IPS 2                       0\n",
            "IPS 3                       0\n",
            "IPS 4                       0\n",
            "IPS 5                       0\n",
            "IPS 6                       0\n",
            "IPS 7                       0\n",
            "IPS 8                       7\n",
            "IPK                         3\n",
            "JENIS KELAMIN               0\n",
            "STATUS MAHASISWA            0\n",
            "STATUS NIKAH                0\n",
            "STATUS KELULUSAN            0\n",
            "RATA_RATA_IPS               0\n",
            "TREND_IPS                   0\n",
            "JENIS KELAMIN_ENCODED       0\n",
            "STATUS MAHASISWA_ENCODED    0\n",
            "STATUS NIKAH_ENCODED        0\n",
            "STATUS KELULUSAN_ENCODED    0\n",
            "dtype: int64\n"
          ]
        }
      ]
    },
    {
      "cell_type": "code",
      "source": [
        "# mengisi nilai hilang dengan mean untuk numerik dan modus untuk kategori\n",
        "data.fillna({col: data[col].mean() for col in data.select_dtypes(include=['float64', 'int64'])}, inplace=True)\n",
        "data.fillna({col: data[col].mode()[0] for col in data.select_dtypes(include=['object'])}, inplace=True)"
      ],
      "metadata": {
        "id": "CesYDO42YSw9"
      },
      "execution_count": 9,
      "outputs": []
    },
    {
      "cell_type": "code",
      "source": [
        "# Normalisasi data numerik\n",
        "from sklearn.preprocessing import StandardScaler, LabelEncoder\n",
        "numerical_columns = ['IPS 1', 'IPS 2', 'IPS 3', 'IPS 4', 'IPS 5', 'IPS 6', 'IPS 7', 'IPS 8', 'IPK', 'RATA_RATA_IPS', 'TREND_IPS']\n",
        "scaler = StandardScaler()\n",
        "data[numerical_columns] = scaler.fit_transform(data[numerical_columns])\n"
      ],
      "metadata": {
        "id": "xfR6D5wdYcDE"
      },
      "execution_count": 11,
      "outputs": []
    },
    {
      "cell_type": "code",
      "source": [
        "# Mengonversi variabel kategori menjadi numerik\n",
        "categorical_columns = ['JENIS KELAMIN', 'STATUS MAHASISWA', 'STATUS NIKAH', 'STATUS KELULUSAN']\n",
        "label_encoders = {}\n",
        "for col in categorical_columns:\n",
        "    le = LabelEncoder()\n",
        "    data[col] = le.fit_transform(data[col])\n",
        "    label_encoders[col] = le"
      ],
      "metadata": {
        "id": "kORZwG_sYl1g"
      },
      "execution_count": 12,
      "outputs": []
    },
    {
      "cell_type": "code",
      "source": [
        "# Membagi dataset menjadi data latih dan data uji\n",
        "from sklearn.model_selection import train_test_split\n",
        "\n",
        "X = data.drop(['STATUS KELULUSAN', 'STATUS KELULUSAN_ENCODED'], axis=1)\n",
        "y = data['STATUS KELULUSAN_ENCODED']\n",
        "X_train, X_test, y_train, y_test = train_test_split(X, y, test_size=0.2, random_state=42)"
      ],
      "metadata": {
        "id": "YoW-gPfyYtAw"
      },
      "execution_count": 14,
      "outputs": []
    },
    {
      "cell_type": "code",
      "source": [
        "# Menyimpan data hasil preprocessing untuk keperluan analisis lebih lanjut\n",
        "X_train.to_csv('X_train_processed.csv', index=False)\n",
        "X_test.to_csv('X_test_processed.csv', index=False)\n",
        "y_train.to_csv('y_train_processed.csv', index=False)\n",
        "y_test.to_csv('y_test_processed.csv', index=False)"
      ],
      "metadata": {
        "id": "-4wLeZB5ZRDP"
      },
      "execution_count": 16,
      "outputs": []
    }
  ]
}